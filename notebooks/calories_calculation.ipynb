{
 "cells": [
  {
   "cell_type": "markdown",
   "metadata": {},
   "source": [
    "For APIs: https://api-ninjas.com/"
   ]
  },
  {
   "cell_type": "code",
   "execution_count": 5,
   "metadata": {},
   "outputs": [
    {
     "name": "stdout",
     "output_type": "stream",
     "text": [
      "[{\"name\": \"granny smith\", \"calories\": 58.5, \"serving_size_g\": 100.0, \"fat_total_g\": 0.2, \"fat_saturated_g\": 0.0, \"protein_g\": 0.4, \"sodium_mg\": 1, \"potassium_mg\": 12, \"cholesterol_mg\": 0, \"carbohydrates_total_g\": 13.4, \"fiber_g\": 2.8, \"sugar_g\": 9.5}]\n"
     ]
    }
   ],
   "source": [
    "import requests \n",
    "\n",
    "api_key = '+Rf6S+6HhBwWSlq+rC5wzw==uNM884hcXekpp4tk'\n",
    "query = 'Granny Smith'\n",
    "api_url = 'https://api.api-ninjas.com/v1/nutrition?query={}'.format(query)\n",
    "\n",
    "# Make GET request with API key\n",
    "response = requests.get(api_url, headers={'X-Api-Key': api_key})\n",
    "\n",
    "# Check response status\n",
    "if response.status_code == requests.codes.ok:\n",
    "    print(response.text)  # Print response text\n",
    "else:\n",
    "    print(\"Error:\", response.status_code, response.text) "
   ]
  }
 ],
 "metadata": {
  "kernelspec": {
   "display_name": "Python 3",
   "language": "python",
   "name": "python3"
  },
  "language_info": {
   "codemirror_mode": {
    "name": "ipython",
    "version": 3
   },
   "file_extension": ".py",
   "mimetype": "text/x-python",
   "name": "python",
   "nbconvert_exporter": "python",
   "pygments_lexer": "ipython3",
   "version": "3.10.0"
  }
 },
 "nbformat": 4,
 "nbformat_minor": 2
}
